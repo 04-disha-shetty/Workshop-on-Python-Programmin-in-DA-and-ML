{
  "nbformat": 4,
  "nbformat_minor": 0,
  "metadata": {
    "colab": {
      "name": "Day5_Case_Study.ipynb",
      "provenance": [],
      "authorship_tag": "ABX9TyOzTFKoZFtF2G3odPwtGBrW",
      "include_colab_link": true
    },
    "kernelspec": {
      "name": "python3",
      "display_name": "Python 3"
    }
  },
  "cells": [
    {
      "cell_type": "markdown",
      "metadata": {
        "id": "view-in-github",
        "colab_type": "text"
      },
      "source": [
        "<a href=\"https://colab.research.google.com/github/04-disha-shetty/Workshop-on-Python-Programmin-in-DA-and-ML/blob/master/Day5_Case_Study.ipynb\" target=\"_parent\"><img src=\"https://colab.research.google.com/assets/colab-badge.svg\" alt=\"Open In Colab\"/></a>"
      ]
    },
    {
      "cell_type": "markdown",
      "metadata": {
        "id": "SZ9V6afTSs7M",
        "colab_type": "text"
      },
      "source": [
        "# **Machine** learning project in python to predict loan approval\n",
        "We have the dataset with the loan applicants data and whether the application was ap*p*roved or not.\n",
        "\n",
        "# **Steps** involved in this machine learning project:\n",
        "Following are the steps involved in creating a well-defined ML project:\n",
        "• Understand and define the problem\n",
        "• Analyse and prepare the data\n",
        "• Apply the algorithms\n",
        "• Reduce the errors\n",
        "• Predict the result\n",
        "These 2 steps need to be performed in the day4 workshop itself\n",
        "These 3 steps need to be performed in the day5 workshop\n",
        "\n",
        "# **Predict if the loan application will get approved**\n",
        "• We have the loan application information like the applicant's name, personal details, financial information and requested loan amount and related details and the outcome (whether the application was approved or rejected). Based on this we are going to train a model and predict if a loan will get approved or not."
      ]
    },
    {
      "cell_type": "code",
      "metadata": {
        "id": "AZ96KSTRTB2y",
        "colab_type": "code",
        "colab": {}
      },
      "source": [
        "import pandas as pd\n",
        "import numpy as np\n",
        "import matplotlib.pyplot as plt\n",
        "from sklearn import model_selection\n",
        "from sklearn.metrics import accuracy_score\n",
        "from sklearn.linear_model import LogisticRegression\n",
        "from sklearn.linear_model import LinearRegression\n",
        "from sklearn.ensemble import RandomForestClassifier\n",
        "from sklearn.neighbors import KNeighborsClassifier\n",
        "from sklearn.svm import SVC\n",
        "from sklearn.tree import DecisionTreeClassifier, export_graphviz"
      ],
      "execution_count": 1,
      "outputs": []
    },
    {
      "cell_type": "code",
      "metadata": {
        "id": "sbchd7t4TGUE",
        "colab_type": "code",
        "colab": {}
      },
      "source": [
        "url = \"https://raw.githubusercontent.com/04-disha-shetty/Workshop-on-Python-Programmin-in-DA-and-ML/master/loan.csv\"\n",
        "names = ['Loan_ID','Gender','Married','Dependents','Education','Self_Employed','ApplicantIncome','CoapplicantIncome','LoanAmount','Loan_Amount_Term','Credit_History','Property_Area','Loan_Status']\n",
        "dataset = pd.read_csv(url, names=names)"
      ],
      "execution_count": 2,
      "outputs": []
    },
    {
      "cell_type": "code",
      "metadata": {
        "id": "13yxZgm6TOhs",
        "colab_type": "code",
        "colab": {
          "base_uri": "https://localhost:8080/",
          "height": 403
        },
        "outputId": "329c7835-3e17-4cd2-8f3b-baa20fb3a8d5"
      },
      "source": [
        "print(dataset.head(20))"
      ],
      "execution_count": 3,
      "outputs": [
        {
          "output_type": "stream",
          "text": [
            "     Loan_ID  Gender  Married  ...  Credit_History  Property_Area  Loan_Status\n",
            "0    Loan_ID  Gender  Married  ...  Credit_History  Property_Area  Loan_Status\n",
            "1   LP001003    Male      Yes  ...               1          Rural            N\n",
            "2   LP001005    Male      Yes  ...               1          Urban            Y\n",
            "3   LP001006    Male      Yes  ...               1          Urban            Y\n",
            "4   LP001008    Male       No  ...               1          Urban            Y\n",
            "5   LP001011    Male      Yes  ...               1          Urban            Y\n",
            "6   LP001013    Male      Yes  ...               1          Urban            Y\n",
            "7   LP001014    Male      Yes  ...               0      Semiurban            N\n",
            "8   LP001018    Male      Yes  ...               1          Urban            Y\n",
            "9   LP001020    Male      Yes  ...               1      Semiurban            N\n",
            "10  LP001024    Male      Yes  ...               1          Urban            Y\n",
            "11  LP001028    Male      Yes  ...               1          Urban            Y\n",
            "12  LP001029    Male       No  ...               1          Rural            N\n",
            "13  LP001030    Male      Yes  ...               1          Urban            Y\n",
            "14  LP001032    Male       No  ...               1          Urban            Y\n",
            "15  LP001036  Female       No  ...               0          Urban            N\n",
            "16  LP001038    Male      Yes  ...               1          Rural            N\n",
            "17  LP001043    Male      Yes  ...               0          Urban            N\n",
            "18  LP001046    Male      Yes  ...               1          Urban            Y\n",
            "19  LP001047    Male      Yes  ...               0      Semiurban            N\n",
            "\n",
            "[20 rows x 13 columns]\n"
          ],
          "name": "stdout"
        }
      ]
    },
    {
      "cell_type": "code",
      "metadata": {
        "id": "QnB-xLcRTh4i",
        "colab_type": "code",
        "colab": {}
      },
      "source": [
        "from sklearn.preprocessing import LabelEncoder\n",
        "var_mod = ['Gender','Married','Dependents','Education','Self_Employed','Property_Area']\n",
        "le = LabelEncoder()\n",
        "for i in var_mod:\n",
        "    dataset[i] = le.fit_transform(dataset[i])"
      ],
      "execution_count": 4,
      "outputs": []
    }
  ]
}
