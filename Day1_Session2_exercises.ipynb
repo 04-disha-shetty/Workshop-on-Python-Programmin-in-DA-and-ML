{
  "nbformat": 4,
  "nbformat_minor": 0,
  "metadata": {
    "colab": {
      "name": "Day1_Session2_exercises.ipynb",
      "provenance": [],
      "authorship_tag": "ABX9TyP0eNOMzOHsV7i/MF6RY4Og",
      "include_colab_link": true
    },
    "kernelspec": {
      "name": "python3",
      "display_name": "Python 3"
    }
  },
  "cells": [
    {
      "cell_type": "markdown",
      "metadata": {
        "id": "view-in-github",
        "colab_type": "text"
      },
      "source": [
        "<a href=\"https://colab.research.google.com/github/04-disha-shetty/Workshop-on-Python-Programmin-in-DA-and-ML/blob/master/Day1_Session2_exercises.ipynb\" target=\"_parent\"><img src=\"https://colab.research.google.com/assets/colab-badge.svg\" alt=\"Open In Colab\"/></a>"
      ]
    },
    {
      "cell_type": "markdown",
      "metadata": {
        "id": "a6VohJLUt2YR",
        "colab_type": "text"
      },
      "source": [
        "# 2 Pattern"
      ]
    },
    {
      "cell_type": "code",
      "metadata": {
        "id": "5huZbhDQtqGH",
        "colab_type": "code",
        "colab": {
          "base_uri": "https://localhost:8080/",
          "height": 84
        },
        "outputId": "17a78980-924b-497b-ed0b-18cb62a490e5"
      },
      "source": [
        "rows = 4\n",
        "for i in range(0, rows):\n",
        "    for j in range(0, i + 1):\n",
        "        print(\"*\", end=' ')\n",
        "\n",
        "    print(\"\\r\")"
      ],
      "execution_count": 3,
      "outputs": [
        {
          "output_type": "stream",
          "text": [
            "* \r\n",
            "* * \r\n",
            "* * * \r\n",
            "* * * * \r\n"
          ],
          "name": "stdout"
        }
      ]
    },
    {
      "cell_type": "markdown",
      "metadata": {
        "id": "8H6_JYqAt6jN",
        "colab_type": "text"
      },
      "source": [
        "# 4 Pattern"
      ]
    },
    {
      "cell_type": "code",
      "metadata": {
        "id": "7Ljpe1tbt9xL",
        "colab_type": "code",
        "colab": {
          "base_uri": "https://localhost:8080/",
          "height": 118
        },
        "outputId": "9d31c6f9-99ec-4bf4-a9bb-b1e62fc9e4ee"
      },
      "source": [
        "rows = 5\n",
        "for i in range(0, rows + 1):\n",
        "    for j in range(rows - i, 0, -1):\n",
        "        print(j, end=' ')\n",
        "    print()"
      ],
      "execution_count": 4,
      "outputs": [
        {
          "output_type": "stream",
          "text": [
            "5 4 3 2 1 \n",
            "4 3 2 1 \n",
            "3 2 1 \n",
            "2 1 \n",
            "1 \n",
            "\n"
          ],
          "name": "stdout"
        }
      ]
    },
    {
      "cell_type": "markdown",
      "metadata": {
        "id": "RwTU8ZeSuQKy",
        "colab_type": "text"
      },
      "source": [
        "# Find the length of a string without using len functions"
      ]
    },
    {
      "cell_type": "code",
      "metadata": {
        "id": "w6KyHP5nuZzh",
        "colab_type": "code",
        "colab": {
          "base_uri": "https://localhost:8080/",
          "height": 50
        },
        "outputId": "91e8636a-b6f7-4583-fa97-25f3d6d33ba0"
      },
      "source": [
        "str = input(\"Enter a string: \")\n",
        "counter = 0\n",
        "for s in str:\n",
        "      counter = counter+1\n",
        "print(\"Length of the input string is:\", counter)"
      ],
      "execution_count": 5,
      "outputs": [
        {
          "output_type": "stream",
          "text": [
            "Enter a string: Disha\n",
            "Length of the input string is: 5\n"
          ],
          "name": "stdout"
        }
      ]
    },
    {
      "cell_type": "markdown",
      "metadata": {
        "id": "oUjc5sJbucpM",
        "colab_type": "text"
      },
      "source": [
        "# Find the no of words and characters in a string"
      ]
    },
    {
      "cell_type": "code",
      "metadata": {
        "id": "cXP5DmgOuoDz",
        "colab_type": "code",
        "colab": {
          "base_uri": "https://localhost:8080/",
          "height": 101
        },
        "outputId": "c6366b1f-c83c-42dd-b2ff-8bb8608646ce"
      },
      "source": [
        "string=input(\"Enter string:\")\n",
        "char=0\n",
        "word=1\n",
        "for i in string:\n",
        "      char=char+1\n",
        "      if(i==' '):\n",
        "            word=word+1\n",
        "print(\"Number of words in the string:\")\n",
        "print(word)\n",
        "print(\"Number of characters in the string:\")\n",
        "print(char)"
      ],
      "execution_count": 6,
      "outputs": [
        {
          "output_type": "stream",
          "text": [
            "Enter string:I am a Budding Engineer\n",
            "Number of words in the string:\n",
            "5\n",
            "Number of characters in the string:\n",
            "23\n"
          ],
          "name": "stdout"
        }
      ]
    },
    {
      "cell_type": "markdown",
      "metadata": {
        "id": "XnWK7Upvurrn",
        "colab_type": "text"
      },
      "source": [
        "# Find the no of occurrences of a word in a string"
      ]
    },
    {
      "cell_type": "code",
      "metadata": {
        "id": "EjWSHSvMu2SN",
        "colab_type": "code",
        "colab": {
          "base_uri": "https://localhost:8080/",
          "height": 34
        },
        "outputId": "ade4d775-6745-42f1-96b4-b6865a6ac891"
      },
      "source": [
        "string = \"Python is awesome, isn't it?\"\n",
        "substring = \"is\"\n",
        "\n",
        "count = string.count(substring)\n",
        "\n",
        "# print count\n",
        "print(\"The count is:\", count)"
      ],
      "execution_count": 7,
      "outputs": [
        {
          "output_type": "stream",
          "text": [
            "The count is: 2\n"
          ],
          "name": "stdout"
        }
      ]
    },
    {
      "cell_type": "markdown",
      "metadata": {
        "id": "ZHSTU9pHu3ev",
        "colab_type": "text"
      },
      "source": [
        "# 5 Pattern"
      ]
    },
    {
      "cell_type": "code",
      "metadata": {
        "id": "5pwQavzzu7LX",
        "colab_type": "code",
        "colab": {
          "base_uri": "https://localhost:8080/",
          "height": 84
        },
        "outputId": "18afcf89-38d2-46fa-8ee6-e9eeab4251f2"
      },
      "source": [
        "n=int(input(\"Enter number:\"));\n",
        "for i in range(n):\n",
        "    for j in range(i+1,n+1,1):\n",
        "        print(j, end=\" \")\n",
        "    print('')\n",
        "for i in range(2,n+1):\n",
        "    c=n-i+1\n",
        "    for j in range(n,n-i,-1):\n",
        "        print(c, end=\" \")\n",
        "        c=c+1\n",
        "    print('')"
      ],
      "execution_count": 8,
      "outputs": [
        {
          "output_type": "stream",
          "text": [
            "Enter number:2\n",
            "1 2 \n",
            "2 \n",
            "1 2 \n"
          ],
          "name": "stdout"
        }
      ]
    },
    {
      "cell_type": "markdown",
      "metadata": {
        "id": "6XKS1EP2u-g5",
        "colab_type": "text"
      },
      "source": [
        "# Write a program to print the triangle"
      ]
    },
    {
      "cell_type": "code",
      "metadata": {
        "id": "vgSEigsIvC6I",
        "colab_type": "code",
        "colab": {
          "base_uri": "https://localhost:8080/",
          "height": 101
        },
        "outputId": "82122e2d-bc04-4cd4-f30d-dc4681f7b9e9"
      },
      "source": [
        "n=int(input(\"Enter number:\"));\n",
        "for i in range(n+1):\n",
        "    c=n-i+1\n",
        "    for j in range(n,n-i,-1):\n",
        "        print(c, end=\" \")\n",
        "        c=c+1\n",
        "    print('')"
      ],
      "execution_count": 9,
      "outputs": [
        {
          "output_type": "stream",
          "text": [
            "Enter number:3\n",
            "\n",
            "3 \n",
            "2 3 \n",
            "1 2 3 \n"
          ],
          "name": "stdout"
        }
      ]
    },
    {
      "cell_type": "markdown",
      "metadata": {
        "id": "odVBTKY4vHH-",
        "colab_type": "text"
      },
      "source": [
        "# Write a program to print the triangle"
      ]
    },
    {
      "cell_type": "code",
      "metadata": {
        "id": "fY3JuHgyvLFX",
        "colab_type": "code",
        "colab": {
          "base_uri": "https://localhost:8080/",
          "height": 134
        },
        "outputId": "70b3f557-a198-4d33-d0f4-74f1e52fdf12"
      },
      "source": [
        "n=int(input(\"Enter number:\"));\n",
        "for i in range(n+1):\n",
        "    c=i\n",
        "    for j in range(1,i+1):\n",
        "        print(c, end=\" \")\n",
        "        c=c+1\n",
        "    print('')"
      ],
      "execution_count": 10,
      "outputs": [
        {
          "output_type": "stream",
          "text": [
            "Enter number:5\n",
            "\n",
            "1 \n",
            "2 3 \n",
            "3 4 5 \n",
            "4 5 6 7 \n",
            "5 6 7 8 9 \n"
          ],
          "name": "stdout"
        }
      ]
    }
  ]
}